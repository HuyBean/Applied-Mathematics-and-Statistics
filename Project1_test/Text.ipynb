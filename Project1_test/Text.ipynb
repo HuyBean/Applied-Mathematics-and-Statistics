{
 "cells": [
  {
   "cell_type": "code",
   "execution_count": 42,
   "metadata": {},
   "outputs": [],
   "source": [
    "import numpy as np"
   ]
  },
  {
   "attachments": {},
   "cell_type": "markdown",
   "metadata": {},
   "source": [
    "# Hàm đưa ma trận về dạng bậc thang"
   ]
  },
  {
   "cell_type": "code",
   "execution_count": 43,
   "metadata": {},
   "outputs": [],
   "source": [
    "def Gauss_Elimination(A):\n",
    "    A = A.astype(float)\n",
    "    n = A.shape[0]\n",
    "    \n",
    "    for i in range(n):\n",
    "        # Tìm hàng có giá trị lớn nhất trong cột đầu tiên chưa xử lý\n",
    "        min_row = np.argmin(np.abs(A[i:, i])) + i\n",
    "        # print('Min_row = ', min_row)\n",
    "        \n",
    "        # Hoán đổi hàng thứ i và hàng có giá trị lớn nhất\n",
    "        # print('A[[i, min_row]] = ', A[[i, min_row]])\n",
    "        # print('A[[min_row, i]] = ', A[[min_row, i]])\n",
    "        A[[i, min_row]] = A[[min_row, i]]\n",
    "        \n",
    "        # Loại bỏ các phần tử bên dưới đường chéo chính\n",
    "        for j in range(i + 1, n):\n",
    "            ratio = A[j, i] / A[i, i]\n",
    "            A[j, :] -= ratio * A[i, :]\n",
    "    \n",
    "    return A\n"
   ]
  },
  {
   "attachments": {},
   "cell_type": "markdown",
   "metadata": {},
   "source": [
    "# Rút gọn về dạng ma trận bậc thang rút gọn"
   ]
  },
  {
   "cell_type": "code",
   "execution_count": 44,
   "metadata": {},
   "outputs": [],
   "source": [
    "def Reduce_Matrix(A):\n",
    "    A = A.astype(float)\n",
    "    n = A.shape[0]\n",
    "    \n",
    "    for i in range(n):\n",
    "        min_row = np.argmin(np.abs(A[i:, i])) + i\n",
    "        A[[i, min_row]] = A[[min_row, i]]\n",
    "        \n",
    "        pivot = A[i, i]\n",
    "        A[i, :] /= pivot\n",
    "        \n",
    "        for j in range(i + 1, n):\n",
    "            ratio = A[j, i] / A[i, i]\n",
    "            A[j, :] -= ratio * A[i, :]\n",
    "    \n",
    "    for i in range(n - 1, 0, -1):\n",
    "        for j in range(i - 1, -1, -1):\n",
    "            ratio = A[j, i] / A[i, i]\n",
    "            A[j, :] -= ratio * A[i, :]\n",
    "    \n",
    "    return A"
   ]
  },
  {
   "attachments": {},
   "cell_type": "markdown",
   "metadata": {},
   "source": [
    "# Hàm tìm nghiệm của hệ phương trình"
   ]
  },
  {
   "cell_type": "code",
   "execution_count": 46,
   "metadata": {},
   "outputs": [],
   "source": [
    "def back_substitution(A):\n",
    "    n = A.shape[0]\n",
    "    #print('n = ', n)\n",
    "    x = np.zeros(n)\n",
    "    # print('x =', x)\n",
    "    for i in range(n - 1, -1, -1):\n",
    "        # print('i = ', i)\n",
    "        # print('A[i, -1] = ', A[i, -1])\n",
    "        # print('A[i, :-1] = ', A[i, :-1])\n",
    "        # print('A[i, i] = ', A[i, i])\n",
    "        # print('np.dot(A[i, :-1], x) = ', np.dot(A[i, :-1], x))\n",
    "        x[i] = (A[i, -1] - np.dot(A[i, :-1], x)) / A[i, i]\n",
    "    \n",
    "    return x\n"
   ]
  },
  {
   "cell_type": "code",
   "execution_count": 48,
   "metadata": {},
   "outputs": [
    {
     "name": "stdout",
     "output_type": "stream",
     "text": [
      "Ma trận ban đầu: \n",
      "[[ 1  2 -1 -1]\n",
      " [ 2  2  1  1]\n",
      " [ 3  5 -2 -1]]\n",
      "Ma trận bậc thang:\n",
      "[[ 1.  2. -1. -1.]\n",
      " [ 0. -1.  1.  2.]\n",
      " [ 0.  0.  1. -1.]]\n",
      "Ma trận bậc thang rút gọn:\n",
      "[[ 1.  0.  0.  4.]\n",
      " [ 0.  1.  0. -3.]\n",
      " [ 0.  0.  1. -1.]]\n",
      "Nghiệm của hệ phương trình:\n",
      "[ 4. -3. -1.]\n"
     ]
    }
   ],
   "source": [
    "# Tạo ma trận mở rộng A\n",
    "A = np.array([[1, 2, -1, -1],\n",
    "              [2, 2, 1, 1],\n",
    "              [3, 5, -2, -1]])\n",
    "\n",
    "# Áp dụng Gauss-Elimination để tìm ma trận bậc thang\n",
    "A_reduced = Gauss_Elimination(A)\n",
    "\n",
    "A_reduced_form = Reduce_Matrix(A)\n",
    "\n",
    "# Áp dụng back substitution để tìm nghiệm của hệ phương trình\n",
    "solution = back_substitution(A_reduced)\n",
    "\n",
    "print(\"Ma trận ban đầu: \")\n",
    "print(A)\n",
    "print(\"Ma trận bậc thang:\")\n",
    "print(A_reduced)\n",
    "print(\"Ma trận bậc thang rút gọn:\")\n",
    "print(A_reduced_form)\n",
    "print(\"Nghiệm của hệ phương trình:\")\n",
    "print(solution)"
   ]
  }
 ],
 "metadata": {
  "kernelspec": {
   "display_name": "Python 3",
   "language": "python",
   "name": "python3"
  },
  "language_info": {
   "codemirror_mode": {
    "name": "ipython",
    "version": 3
   },
   "file_extension": ".py",
   "mimetype": "text/x-python",
   "name": "python",
   "nbconvert_exporter": "python",
   "pygments_lexer": "ipython3",
   "version": "3.11.0"
  },
  "orig_nbformat": 4
 },
 "nbformat": 4,
 "nbformat_minor": 2
}
