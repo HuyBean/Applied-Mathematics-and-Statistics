{
 "cells": [
  {
   "cell_type": "code",
   "execution_count": 9,
   "metadata": {},
   "outputs": [],
   "source": [
    "from rembg import remove\n",
    "from PIL import Image\n"
   ]
  },
  {
   "cell_type": "code",
   "execution_count": 10,
   "metadata": {},
   "outputs": [
    {
     "ename": "ValueError",
     "evalue": "Input type <class 'method'> is not supported.",
     "output_type": "error",
     "traceback": [
      "\u001b[1;31m---------------------------------------------------------------------------\u001b[0m",
      "\u001b[1;31mValueError\u001b[0m                                Traceback (most recent call last)",
      "Cell \u001b[1;32mIn[10], line 5\u001b[0m\n\u001b[0;32m      2\u001b[0m output_  \u001b[39m=\u001b[39m \u001b[39m'\u001b[39m\u001b[39mremoved.jpg\u001b[39m\u001b[39m'\u001b[39m\n\u001b[0;32m      4\u001b[0m intput \u001b[39m=\u001b[39m Image\u001b[39m.\u001b[39mopen(input_)\n\u001b[1;32m----> 5\u001b[0m output \u001b[39m=\u001b[39m remove(\u001b[39minput\u001b[39;49m)\n\u001b[0;32m      6\u001b[0m output\u001b[39m.\u001b[39msave(output_)\n",
      "File \u001b[1;32mc:\\Python311\\Lib\\site-packages\\rembg\\bg.py:148\u001b[0m, in \u001b[0;36mremove\u001b[1;34m(data, alpha_matting, alpha_matting_foreground_threshold, alpha_matting_background_threshold, alpha_matting_erode_size, session, only_mask, post_process_mask, bgcolor, *args, **kwargs)\u001b[0m\n\u001b[0;32m    146\u001b[0m     img \u001b[39m=\u001b[39m Image\u001b[39m.\u001b[39mfromarray(data)\n\u001b[0;32m    147\u001b[0m \u001b[39melse\u001b[39;00m:\n\u001b[1;32m--> 148\u001b[0m     \u001b[39mraise\u001b[39;00m \u001b[39mValueError\u001b[39;00m(\u001b[39m\"\u001b[39m\u001b[39mInput type \u001b[39m\u001b[39m{}\u001b[39;00m\u001b[39m is not supported.\u001b[39m\u001b[39m\"\u001b[39m\u001b[39m.\u001b[39mformat(\u001b[39mtype\u001b[39m(data)))\n\u001b[0;32m    150\u001b[0m \u001b[39m# Fix image orientation\u001b[39;00m\n\u001b[0;32m    151\u001b[0m img \u001b[39m=\u001b[39m fix_image_orientation(img)\n",
      "\u001b[1;31mValueError\u001b[0m: Input type <class 'method'> is not supported."
     ]
    }
   ],
   "source": [
    "input_ = 'Manh.jpg'\n",
    "output_  = 'removed.jpg'\n",
    "\n",
    "intput = Image.open(input_)\n",
    "output = remove(input)\n",
    "output.save(output_)"
   ]
  }
 ],
 "metadata": {
  "kernelspec": {
   "display_name": "Python 3",
   "language": "python",
   "name": "python3"
  },
  "language_info": {
   "codemirror_mode": {
    "name": "ipython",
    "version": 3
   },
   "file_extension": ".py",
   "mimetype": "text/x-python",
   "name": "python",
   "nbconvert_exporter": "python",
   "pygments_lexer": "ipython3",
   "version": "3.11.0"
  },
  "orig_nbformat": 4
 },
 "nbformat": 4,
 "nbformat_minor": 2
}
