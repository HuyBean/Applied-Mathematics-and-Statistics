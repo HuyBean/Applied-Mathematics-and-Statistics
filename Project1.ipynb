{
 "cells": [
  {
   "cell_type": "markdown",
   "metadata": {},
   "source": [
    "# Import libary"
   ]
  },
  {
   "cell_type": "code",
   "execution_count": null,
   "metadata": {},
   "outputs": [],
   "source": [
    "import numpy as np\n",
    "import matplotlib.pyplot as plt\n",
    "import random"
   ]
  },
  {
   "cell_type": "code",
   "execution_count": null,
   "metadata": {},
   "outputs": [],
   "source": [
    "def initializeCentroid(X, K):\n",
    "    return random.sample(list(X), K)"
   ]
  },
  {
   "cell_type": "code",
   "execution_count": null,
   "metadata": {},
   "outputs": [],
   "source": [
    "def findClosestCentroid(X, centroid):\n",
    "    K = np.size(centroid, 0)\n",
    "    index = np.zeros((np.size(X, 0), 1))\n",
    "    arr = np.empty((np.size(X, 0), 1))\n",
    "    for i in range (0, K):\n",
    "            y = centroid[i]\n",
    "            temp = np.ones((np.size(X, 0), 1))* y\n",
    "            b = np.power\n"
   ]
  }
 ],
 "metadata": {
  "language_info": {
   "name": "python"
  },
  "orig_nbformat": 4
 },
 "nbformat": 4,
 "nbformat_minor": 2
}
