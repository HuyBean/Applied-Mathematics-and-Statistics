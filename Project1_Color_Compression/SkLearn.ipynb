{
 "cells": [
  {
   "cell_type": "code",
   "execution_count": 22,
   "metadata": {},
   "outputs": [],
   "source": [
    "import numpy as np\n",
    "from PIL import Image\n",
    "import matplotlib.pyplot as plt\n",
    "import time \n",
    "from sklearn.cluster import KMeans"
   ]
  },
  {
   "cell_type": "code",
   "execution_count": 23,
   "metadata": {},
   "outputs": [],
   "source": [
    "def kmeans_sklearn(X, k_clusters, max_iter):\n",
    "    kmeans = KMeans(n_clusters=k_clusters, max_iter=max_iter)\n",
    "    labels = kmeans.fit_predict(X)\n",
    "    centroid_history = kmeans.cluster_centers_\n",
    "    return labels, centroid_history"
   ]
  },
  {
   "cell_type": "code",
   "execution_count": 24,
   "metadata": {},
   "outputs": [],
   "source": [
    "image = Image.open('phong_canh.jpg')\n",
    "image_np = np.array(image)\n",
    "\n",
    "# Chuyển đổi ảnh thành 1D array\n",
    "img_1d = image_np.reshape(-1, 3) / 255  # Reshape và chuẩn hóa giá trị [0, 1]\n"
   ]
  },
  {
   "cell_type": "code",
   "execution_count": 25,
   "metadata": {},
   "outputs": [
    {
     "name": "stderr",
     "output_type": "stream",
     "text": [
      "c:\\Python311\\Lib\\site-packages\\sklearn\\cluster\\_kmeans.py:1412: FutureWarning: The default value of `n_init` will change from 10 to 'auto' in 1.4. Set the value of `n_init` explicitly to suppress the warning\n",
      "  super()._check_params_vs_input(X, default_n_init=10)\n"
     ]
    },
    {
     "ename": "IndexError",
     "evalue": "index 5 is out of bounds for axis 0 with size 3",
     "output_type": "error",
     "traceback": [
      "\u001b[1;31m---------------------------------------------------------------------------\u001b[0m",
      "\u001b[1;31mIndexError\u001b[0m                                Traceback (most recent call last)",
      "Cell \u001b[1;32mIn[25], line 17\u001b[0m\n\u001b[0;32m     15\u001b[0m final_centroids_scaled \u001b[39m=\u001b[39m final_centroids \u001b[39m*\u001b[39m \u001b[39m255\u001b[39m\n\u001b[0;32m     16\u001b[0m labels_1d \u001b[39m=\u001b[39m labels_sklearn\u001b[39m.\u001b[39mravel()\n\u001b[1;32m---> 17\u001b[0m final_image \u001b[39m=\u001b[39m final_centroids_scaled[labels_1d]\u001b[39m.\u001b[39mreshape(image_np\u001b[39m.\u001b[39mshape)\n\u001b[0;32m     19\u001b[0m \u001b[39m# In kết quả\u001b[39;00m\n\u001b[0;32m     20\u001b[0m fig, axs \u001b[39m=\u001b[39m plt\u001b[39m.\u001b[39msubplots(\u001b[39m1\u001b[39m, \u001b[39m2\u001b[39m, figsize\u001b[39m=\u001b[39m(\u001b[39m10\u001b[39m, \u001b[39m5\u001b[39m))\n",
      "\u001b[1;31mIndexError\u001b[0m: index 5 is out of bounds for axis 0 with size 3"
     ]
    }
   ],
   "source": [
    "import time\n",
    "import matplotlib.pyplot as plt\n",
    "import numpy as np\n",
    "\n",
    "X = img_1d # Dữ liệu đầu vào\n",
    "k_clusters = 10  # Số lượng cluster\n",
    "max_iter = 100  # Số lượng lặp\n",
    "\n",
    "# Gọi hàm K-means từ scikit-learn\n",
    "start_time = time.time()\n",
    "labels_sklearn, centroid_history_sklearn = kmeans_sklearn(X, k_clusters, max_iter)\n",
    "end_time = time.time()\n",
    "\n",
    "final_centroids = centroid_history_sklearn[-1]\n",
    "final_centroids_scaled = final_centroids * 255\n",
    "labels_1d = labels_sklearn.ravel()\n",
    "final_image = final_centroids_scaled[labels_1d].reshape(image_np.shape)\n",
    "\n",
    "# In kết quả\n",
    "fig, axs = plt.subplots(1, 2, figsize=(10, 5))\n",
    "axs[0].set_title(\"Original Image\")\n",
    "axs[0].imshow(image_np)\n",
    "axs[0].axis('off')\n",
    "axs[1].set_title(f\"Reduced Image (k={k_clusters}, iter={max_iter})\")\n",
    "axs[1].imshow(final_image)\n",
    "axs[1].axis('off')\n",
    "plt.show()\n",
    "\n",
    "print(\"Run time: \", end_time - start_time)\n",
    "print(\"Final centroid: \", final_centroids_scaled)\n",
    "print(\"Centroid_history: \", centroid_history_sklearn)\n",
    "print(\"Labels: \", labels_sklearn)\n"
   ]
  }
 ],
 "metadata": {
  "kernelspec": {
   "display_name": "Python 3",
   "language": "python",
   "name": "python3"
  },
  "language_info": {
   "codemirror_mode": {
    "name": "ipython",
    "version": 3
   },
   "file_extension": ".py",
   "mimetype": "text/x-python",
   "name": "python",
   "nbconvert_exporter": "python",
   "pygments_lexer": "ipython3",
   "version": "3.11.0"
  },
  "orig_nbformat": 4
 },
 "nbformat": 4,
 "nbformat_minor": 2
}
