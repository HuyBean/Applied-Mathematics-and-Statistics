{
 "cells": [
  {
   "cell_type": "code",
   "execution_count": 58,
   "metadata": {},
   "outputs": [],
   "source": [
    "import numpy as np\n",
    "from fractions import Fraction"
   ]
  },
  {
   "cell_type": "code",
   "execution_count": 64,
   "metadata": {},
   "outputs": [
    {
     "ename": "SyntaxError",
     "evalue": "invalid syntax (2819587685.py, line 26)",
     "output_type": "error",
     "traceback": [
      "\u001b[1;36m  Cell \u001b[1;32mIn[64], line 26\u001b[1;36m\u001b[0m\n\u001b[1;33m    R[i] =\u001b[0m\n\u001b[1;37m           ^\u001b[0m\n\u001b[1;31mSyntaxError\u001b[0m\u001b[1;31m:\u001b[0m invalid syntax\n"
     ]
    }
   ],
   "source": [
    "def Gauss_elimination(A, leading1=True):\n",
    "    R = A.copy()\n",
    "    m, n = len(R), len(R[0]) # The size of matrix\n",
    "    \n",
    "    row = col = 0\n",
    "    \n",
    "    while row < m:\n",
    "        # Step 1\n",
    "        while col < n and all(is_zero(R[i][col]) for i in range(row, m)):\n",
    "            col += 1\n",
    "        if col == n: # it's echelon\n",
    "            break\n",
    "        \n",
    "        # Step 2 (select the first row that contains non-zero coefficient)\n",
    "        pivot_row = row + [not is_zero(R[i][col]) for i in range(row, m)].index(True)\n",
    "        R[row], R[pivot_row] = R[pivot_row], R[row]\n",
    "        \n",
    "        # Step 3 (leading 1 option)\n",
    "        if leading1:\n",
    "            A[row] = [1/R[row][col] *  Index for Index in R[i]]\n",
    "            \n",
    "        # Step 4\n",
    "        for i in range(row + 1, m):\n",
    "            multiplier = R[i][col]/R[row][col]\n",
    "            row_add(R, i, row, -multiplier) # di = di - drow * multiplier\n",
    "            R[i] = \n",
    "    \n",
    "        # Step 5\n",
    "        row += 1\n",
    "        \n",
    "    return R"
   ]
  },
  {
   "cell_type": "code",
   "execution_count": 63,
   "metadata": {},
   "outputs": [
    {
     "name": "stdout",
     "output_type": "stream",
     "text": [
      "Bước khử Gauss thứ 1\n",
      "['2', '6', '-5', '-2', '4', '-3', '0']\n",
      "['0', '0', '1/2', '1', '0', '3/2', '0']\n",
      "['0', '0', '5', '10', '0', '15', '0']\n",
      "['0', '0', '5', '10', '0', '21', '0']\n",
      "\n",
      "Bước khử Gauss thứ 2\n",
      "['2', '6', '-5', '-2', '4', '-3', '0']\n",
      "['0', '0', '1/2', '1', '0', '3/2', '0']\n"
     ]
    },
    {
     "name": "stderr",
     "output_type": "stream",
     "text": [
      "C:\\Users\\VIP\\AppData\\Local\\Temp\\ipykernel_16980\\971370527.py:13: RuntimeWarning: invalid value encountered in scalar divide\n",
      "  ratio = matrix[j, i] / matrix[i, i]\n"
     ]
    },
    {
     "ename": "ValueError",
     "evalue": "cannot convert NaN to integer ratio",
     "output_type": "error",
     "traceback": [
      "\u001b[1;31m---------------------------------------------------------------------------\u001b[0m",
      "\u001b[1;31mValueError\u001b[0m                                Traceback (most recent call last)",
      "Cell \u001b[1;32mIn[63], line 8\u001b[0m\n\u001b[0;32m      2\u001b[0m ma_tran \u001b[39m=\u001b[39m np\u001b[39m.\u001b[39marray([[\u001b[39m1\u001b[39m, \u001b[39m3\u001b[39m, \u001b[39m-\u001b[39m\u001b[39m2\u001b[39m,  \u001b[39m0\u001b[39m, \u001b[39m2\u001b[39m,  \u001b[39m0\u001b[39m, \u001b[39m0\u001b[39m],\n\u001b[0;32m      3\u001b[0m      [\u001b[39m2\u001b[39m, \u001b[39m6\u001b[39m, \u001b[39m-\u001b[39m\u001b[39m5\u001b[39m, \u001b[39m-\u001b[39m\u001b[39m2\u001b[39m, \u001b[39m4\u001b[39m, \u001b[39m-\u001b[39m\u001b[39m3\u001b[39m, \u001b[39m0\u001b[39m],\n\u001b[0;32m      4\u001b[0m      [\u001b[39m0\u001b[39m, \u001b[39m0\u001b[39m,  \u001b[39m5\u001b[39m, \u001b[39m10\u001b[39m, \u001b[39m0\u001b[39m, \u001b[39m15\u001b[39m, \u001b[39m0\u001b[39m],\n\u001b[0;32m      5\u001b[0m      [\u001b[39m2\u001b[39m, \u001b[39m6\u001b[39m,  \u001b[39m0\u001b[39m,  \u001b[39m8\u001b[39m, \u001b[39m4\u001b[39m, \u001b[39m18\u001b[39m, \u001b[39m0\u001b[39m]], dtype\u001b[39m=\u001b[39m\u001b[39mfloat\u001b[39m)\n\u001b[0;32m      7\u001b[0m \u001b[39m# Thực hiện khử Gauss và back substitution\u001b[39;00m\n\u001b[1;32m----> 8\u001b[0m solutions \u001b[39m=\u001b[39m gauss_elimination(ma_tran)\n\u001b[0;32m     10\u001b[0m \u001b[39mprint\u001b[39m(\u001b[39m\"\u001b[39m\u001b[39mNghiệm của hệ phương trình là:\u001b[39m\u001b[39m\"\u001b[39m, solutions)\n",
      "Cell \u001b[1;32mIn[62], line 18\u001b[0m, in \u001b[0;36mgauss_elimination\u001b[1;34m(matrix)\u001b[0m\n\u001b[0;32m     16\u001b[0m     \u001b[39mprint\u001b[39m(\u001b[39m\"\u001b[39m\u001b[39mBước khử Gauss thứ\u001b[39m\u001b[39m\"\u001b[39m, i\u001b[39m+\u001b[39m\u001b[39m1\u001b[39m)\n\u001b[0;32m     17\u001b[0m     \u001b[39mfor\u001b[39;00m row \u001b[39min\u001b[39;00m matrix:\n\u001b[1;32m---> 18\u001b[0m         \u001b[39mprint\u001b[39m([\u001b[39mstr\u001b[39;49m(Fraction(elem)\u001b[39m.\u001b[39;49mlimit_denominator()) \u001b[39mfor\u001b[39;49;00m elem \u001b[39min\u001b[39;49;00m row])\n\u001b[0;32m     19\u001b[0m     \u001b[39mprint\u001b[39m()\n\u001b[0;32m     21\u001b[0m \u001b[39m# Rút gọn ma trận về dạng ma trận bậc thang rút gọn\u001b[39;00m\n",
      "Cell \u001b[1;32mIn[62], line 18\u001b[0m, in \u001b[0;36m<listcomp>\u001b[1;34m(.0)\u001b[0m\n\u001b[0;32m     16\u001b[0m     \u001b[39mprint\u001b[39m(\u001b[39m\"\u001b[39m\u001b[39mBước khử Gauss thứ\u001b[39m\u001b[39m\"\u001b[39m, i\u001b[39m+\u001b[39m\u001b[39m1\u001b[39m)\n\u001b[0;32m     17\u001b[0m     \u001b[39mfor\u001b[39;00m row \u001b[39min\u001b[39;00m matrix:\n\u001b[1;32m---> 18\u001b[0m         \u001b[39mprint\u001b[39m([\u001b[39mstr\u001b[39m(Fraction(elem)\u001b[39m.\u001b[39mlimit_denominator()) \u001b[39mfor\u001b[39;00m elem \u001b[39min\u001b[39;00m row])\n\u001b[0;32m     19\u001b[0m     \u001b[39mprint\u001b[39m()\n\u001b[0;32m     21\u001b[0m \u001b[39m# Rút gọn ma trận về dạng ma trận bậc thang rút gọn\u001b[39;00m\n",
      "File \u001b[1;32mc:\\Python311\\Lib\\fractions.py:108\u001b[0m, in \u001b[0;36mFraction.__new__\u001b[1;34m(cls, numerator, denominator, _normalize)\u001b[0m\n\u001b[0;32m    104\u001b[0m     \u001b[39mreturn\u001b[39;00m \u001b[39mself\u001b[39m\n\u001b[0;32m    106\u001b[0m \u001b[39melif\u001b[39;00m \u001b[39misinstance\u001b[39m(numerator, (\u001b[39mfloat\u001b[39m, Decimal)):\n\u001b[0;32m    107\u001b[0m     \u001b[39m# Exact conversion\u001b[39;00m\n\u001b[1;32m--> 108\u001b[0m     \u001b[39mself\u001b[39m\u001b[39m.\u001b[39m_numerator, \u001b[39mself\u001b[39m\u001b[39m.\u001b[39m_denominator \u001b[39m=\u001b[39m numerator\u001b[39m.\u001b[39mas_integer_ratio()\n\u001b[0;32m    109\u001b[0m     \u001b[39mreturn\u001b[39;00m \u001b[39mself\u001b[39m\n\u001b[0;32m    111\u001b[0m \u001b[39melif\u001b[39;00m \u001b[39misinstance\u001b[39m(numerator, \u001b[39mstr\u001b[39m):\n\u001b[0;32m    112\u001b[0m     \u001b[39m# Handle construction from strings.\u001b[39;00m\n",
      "\u001b[1;31mValueError\u001b[0m: cannot convert NaN to integer ratio"
     ]
    }
   ],
   "source": [
    "# Một ma trận ví dụ\n",
    "ma_tran = np.array([[1, 3, -2,  0, 2,  0, 0],\n",
    "     [2, 6, -5, -2, 4, -3, 0],\n",
    "     [0, 0,  5, 10, 0, 15, 0],\n",
    "     [2, 6,  0,  8, 4, 18, 0]], dtype=float)\n",
    "\n",
    "# Thực hiện khử Gauss và back substitution\n",
    "solutions = Gauss_elimination(ma_tran)\n",
    "\n",
    "print(\"Nghiệm của hệ phương trình là:\", solutions)"
   ]
  }
 ],
 "metadata": {
  "kernelspec": {
   "display_name": "Python 3",
   "language": "python",
   "name": "python3"
  },
  "language_info": {
   "codemirror_mode": {
    "name": "ipython",
    "version": 3
   },
   "file_extension": ".py",
   "mimetype": "text/x-python",
   "name": "python",
   "nbconvert_exporter": "python",
   "pygments_lexer": "ipython3",
   "version": "3.11.0"
  },
  "orig_nbformat": 4
 },
 "nbformat": 4,
 "nbformat_minor": 2
}
